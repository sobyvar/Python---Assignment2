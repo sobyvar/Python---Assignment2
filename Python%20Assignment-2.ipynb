{
 "cells": [
  {
   "cell_type": "code",
   "execution_count": 1,
   "metadata": {},
   "outputs": [
    {
     "name": "stdout",
     "output_type": "stream",
     "text": [
      "Enter the values sperated by comma1,2,3,4,5\n",
      "Generated list from the console value is [1,2,3,4,5]\n"
     ]
    }
   ],
   "source": [
    "# Write a program which accepts a sequence of comma-separated numbers from console and\n",
    "# generate a list.\n",
    "\n",
    "str_enter=input('Enter the values sperated by comma')\n",
    "print('Generated list from the console value is','['+str_enter+']')"
   ]
  },
  {
   "cell_type": "code",
   "execution_count": 2,
   "metadata": {},
   "outputs": [
    {
     "name": "stdout",
     "output_type": "stream",
     "text": [
      "Find below the pattren asked\n",
      "----------------------------\n",
      "*\n",
      "**\n",
      "***\n",
      "****\n",
      "*****\n",
      "****\n",
      "***\n",
      "**\n",
      "*\n"
     ]
    }
   ],
   "source": [
    "#  Create the below pattern using nested for loop in Python.\n",
    "\n",
    "print('Find below the pattren asked')\n",
    "print('----------------------------')\n",
    "for i in range(1,6): #To generate pattern of star in increaing order till 5\n",
    "    print(i*'*')\n",
    "for i in range(4,-1,-1):  #To generate pattern of star in decreasing order till 1\n",
    "    if i >0: # to avoid printing  the null value\n",
    "        print(i*'*')"
   ]
  },
  {
   "cell_type": "code",
   "execution_count": 3,
   "metadata": {},
   "outputs": [
    {
     "name": "stdout",
     "output_type": "stream",
     "text": [
      "Enter the string to be reversed AcadGild\n",
      "The reversed string of  AcadGild is dliGdacA\n"
     ]
    }
   ],
   "source": [
    "# Write a Python program to reverse a word after accepting the input from the user.\n",
    "\n",
    "str_etr=input('Enter the string to be reversed ')\n",
    "print('The reversed string of ',str_etr, 'is',str_etr[::-1])"
   ]
  },
  {
   "cell_type": "code",
   "execution_count": 4,
   "metadata": {},
   "outputs": [
    {
     "name": "stdout",
     "output_type": "stream",
     "text": [
      "Printing the sologon as told\n",
      "----------------------------\n",
      "WE, THE PEOPLE OF INDIA,\n",
      "\t having solemnly resolved to constitute India into a SOVEREIGN, ! \n",
      "\t \t SOCIALIST, SECULAR, DEMOCRATIC REPUBLIC \n",
      "\t\t  and to secure to all its citizens:\n"
     ]
    }
   ],
   "source": [
    "# Write a Python Program to print the given string in the format specified in the sample\n",
    "# output.\n",
    "\n",
    "print('Printing the sologon as told')\n",
    "print('----------------------------')\n",
    "print('WE, THE PEOPLE OF INDIA,\\n\\t having solemnly resolved to constitute India into a SOVEREIGN, ! \\n\\t \\t SOCIALIST, SECULAR, DEMOCRATIC REPUBLIC \\n\\t\\t ' ' and to secure to all its citizens:')"
   ]
  },
  {
   "cell_type": "code",
   "execution_count": null,
   "metadata": {},
   "outputs": [],
   "source": []
  }
 ],
 "metadata": {
  "kernelspec": {
   "display_name": "Python 3",
   "language": "python",
   "name": "python3"
  },
  "language_info": {
   "codemirror_mode": {
    "name": "ipython",
    "version": 3
   },
   "file_extension": ".py",
   "mimetype": "text/x-python",
   "name": "python",
   "nbconvert_exporter": "python",
   "pygments_lexer": "ipython3",
   "version": "3.6.5"
  }
 },
 "nbformat": 4,
 "nbformat_minor": 2
}
